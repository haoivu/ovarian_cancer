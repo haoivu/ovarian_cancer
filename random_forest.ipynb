{
 "cells": [
  {
   "cell_type": "code",
   "execution_count": 1,
   "metadata": {},
   "outputs": [],
   "source": [
    "%store -r normalized_df"
   ]
  },
  {
   "cell_type": "code",
   "execution_count": 2,
   "metadata": {},
   "outputs": [],
   "source": [
    "%matplotlib inline\n",
    "import pandas as pd\n",
    "import numpy as np\n",
    "from sklearn.model_selection import train_test_split\n",
    "from sklearn.metrics import accuracy_score, confusion_matrix\n",
    "from sklearn.preprocessing import LabelEncoder\n",
    "\n",
    "pd.set_option('display.max_rows', 500)\n",
    "pd.set_option('display.max_columns', 500)\n",
    "pd.set_option('display.width', 1000)"
   ]
  },
  {
   "cell_type": "code",
   "execution_count": 6,
   "metadata": {},
   "outputs": [
    {
     "name": "stdout",
     "output_type": "stream",
     "text": [
      "Maximum\n",
      "0.8844444444444445 \n",
      " [[ 48  18   0]\n",
      " [  3 132   0]\n",
      " [  2   3  19]]\n",
      "----------------------------------\n",
      "Minimum\n",
      "0.84 \n",
      " [[ 44  22   0]\n",
      " [  4 131   0]\n",
      " [  4   6  14]]\n",
      "----------------------------------\n",
      "mean accuracy: 0.866933333333333\n"
     ]
    }
   ],
   "source": [
    "from sklearn.datasets import load_iris\n",
    "from sklearn.model_selection import cross_val_score\n",
    "from sklearn.ensemble import RandomForestClassifier\n",
    "from sklearn import preprocessing\n",
    "from sklearn import utils\n",
    "\n",
    "tot_acc = 0\n",
    "max_matrix = 0\n",
    "max_accuracy = 0\n",
    "\n",
    "min_matrix = 0\n",
    "min_accuracy = 1\n",
    "\n",
    "X = normalized_df.drop(['kreftform'], axis=1)\n",
    "y = normalized_df[['kreftform']]\n",
    "\n",
    "X_train, X_test, y_train, y_test = train_test_split(X, y, test_size=0.33)\n",
    "\n",
    "lab_enc = preprocessing.LabelEncoder()\n",
    "encoded_y_train = lab_enc.fit_transform(y_train.values.ravel())\n",
    "encoded_y_test = lab_enc.fit_transform(y_test.values.ravel())\n",
    "\n",
    "for i in range(100):\n",
    "    clf = RandomForestClassifier(n_estimators=100)\n",
    "\n",
    "    clf.fit(X_train, encoded_y_train)\n",
    "    y_pred = clf.predict(X_test)\n",
    "    \n",
    "    accuracy = accuracy_score(encoded_y_test, y_pred)\n",
    "    \n",
    "    if accuracy > max_accuracy:\n",
    "        max_accuracy = accuracy\n",
    "        max_matrix = confusion_matrix(encoded_y_test, y_pred)\n",
    "        \n",
    "    if accuracy < min_accuracy:\n",
    "        min_accuracy = accuracy\n",
    "        min_matrix = confusion_matrix(encoded_y_test, y_pred)\n",
    "        \n",
    "    tot_acc += accuracy\n",
    "    tot = i+1\n",
    "    mean = tot_acc/tot\n",
    "    \n",
    "print('Maximum')\n",
    "print(max_accuracy, '\\n', max_matrix)\n",
    "print('----------------------------------')\n",
    "print('Minimum')\n",
    "print(min_accuracy, '\\n', min_matrix)\n",
    "print('----------------------------------')\n",
    "print('mean accuracy:', mean)"
   ]
  }
 ],
 "metadata": {
  "kernelspec": {
   "display_name": "Python 3",
   "language": "python",
   "name": "python3"
  },
  "language_info": {
   "codemirror_mode": {
    "name": "ipython",
    "version": 3
   },
   "file_extension": ".py",
   "mimetype": "text/x-python",
   "name": "python",
   "nbconvert_exporter": "python",
   "pygments_lexer": "ipython3",
   "version": "3.6.8"
  }
 },
 "nbformat": 4,
 "nbformat_minor": 2
}
