{
 "cells": [
  {
   "cell_type": "code",
   "execution_count": 1,
   "metadata": {},
   "outputs": [],
   "source": [
    "%store -r normalized_df"
   ]
  },
  {
   "cell_type": "code",
   "execution_count": 2,
   "metadata": {},
   "outputs": [],
   "source": [
    "import pandas as pd\n",
    "import numpy as np\n",
    "from sklearn.model_selection import train_test_split\n",
    "from sklearn.metrics import accuracy_score, confusion_matrix\n",
    "from sklearn.preprocessing import LabelEncoder\n",
    "\n",
    "pd.set_option('display.max_rows', 500)\n",
    "pd.set_option('display.max_columns', 500)\n",
    "pd.set_option('display.width', 1000)"
   ]
  },
  {
   "cell_type": "code",
   "execution_count": 3,
   "metadata": {},
   "outputs": [],
   "source": [
    "from sklearn.datasets import load_iris\n",
    "from sklearn.model_selection import cross_val_score\n",
    "from sklearn.ensemble import RandomForestClassifier\n",
    "from sklearn import preprocessing\n",
    "from sklearn import utils\n",
    "\n",
    "X = normalized_df.drop(['kreftform'], axis=1)\n",
    "y = normalized_df[['kreftform']]\n",
    "\n",
    "X_train, X_test, y_train, y_test = train_test_split(X, y, test_size=0.33)\n",
    "\n",
    "lab_enc = preprocessing.LabelEncoder()\n",
    "encoded_y_train = lab_enc.fit_transform(y_train.values.ravel())\n",
    "encoded_y_test = lab_enc.fit_transform(y_test.values.ravel())\n",
    "\n",
    "def run_once():\n",
    "    clf = RandomForestClassifier(n_estimators=100)\n",
    "\n",
    "    clf.fit(X_train, encoded_y_train)\n",
    "    y_pred = clf.predict(X_test)\n",
    "    y_pred_train = clf.predict(X_train)\n",
    "    \n",
    "    accuracy = accuracy_score(encoded_y_test, y_pred)\n",
    "    print('Train accuracy: ', accuracy_score(encoded_y_train, y_pred_train))\n",
    "    print(confusion_matrix(encoded_y_train, y_pred_train))\n",
    "    print('----------------------------------')\n",
    "    print('Test accuracy: ', accuracy_score(encoded_y_test, y_pred))\n",
    "    print(confusion_matrix(encoded_y_test, y_pred))\n",
    "    \n",
    "def run_more_than_once(run_number):\n",
    "    tot_acc = 0\n",
    "    max_matrix = 0\n",
    "    max_accuracy = 0\n",
    "\n",
    "    min_matrix = 0\n",
    "    min_accuracy = 1\n",
    "    \n",
    "    tot_acc_train = 0\n",
    "    \n",
    "    for i in range(run_number):\n",
    "        clf = RandomForestClassifier(n_estimators=100)\n",
    "\n",
    "        clf.fit(X_train, encoded_y_train)\n",
    "        y_pred = clf.predict(X_test)\n",
    "\n",
    "        accuracy_train = accuracy_score(encoded_y_train, clf.predict(X_train))\n",
    "        accuracy = accuracy_score(encoded_y_test, y_pred)\n",
    "\n",
    "        if accuracy > max_accuracy:\n",
    "            max_accuracy = accuracy\n",
    "            max_matrix = confusion_matrix(encoded_y_test, y_pred)\n",
    "\n",
    "        if accuracy < min_accuracy:\n",
    "            min_accuracy = accuracy\n",
    "            min_matrix = confusion_matrix(encoded_y_test, y_pred)\n",
    "\n",
    "        tot_acc += accuracy\n",
    "        tot = i+1\n",
    "        mean = tot_acc/tot\n",
    "        \n",
    "        tot_acc_train += accuracy_train\n",
    "        total = i+1\n",
    "        mean_train = tot_acc_train/total\n",
    "\n",
    "    print('Maximum')\n",
    "    print(max_accuracy, '\\n', max_matrix)\n",
    "    print('----------------------------------')\n",
    "    print('Minimum')\n",
    "    print(min_accuracy, '\\n', min_matrix)\n",
    "    print('----------------------------------')\n",
    "    print('Mean train accuracy:', mean_train)\n",
    "    print('Mean test accuracy:', mean)"
   ]
  },
  {
   "cell_type": "code",
   "execution_count": 4,
   "metadata": {},
   "outputs": [
    {
     "name": "stdout",
     "output_type": "stream",
     "text": [
      "Train accuracy:  1.0\n",
      "[[137   0   0]\n",
      " [  0 282   0]\n",
      " [  0   0  36]]\n",
      "----------------------------------\n",
      "Test accuracy:  0.8444444444444444\n",
      "[[ 59  17   0]\n",
      " [  7 120   0]\n",
      " [  5   6  11]]\n"
     ]
    }
   ],
   "source": [
    "run_once()"
   ]
  },
  {
   "cell_type": "code",
   "execution_count": 5,
   "metadata": {},
   "outputs": [
    {
     "name": "stdout",
     "output_type": "stream",
     "text": [
      "Maximum\n",
      "0.8755555555555555 \n",
      " [[ 62  14   0]\n",
      " [  4 123   0]\n",
      " [  5   5  12]]\n",
      "----------------------------------\n",
      "Minimum\n",
      "0.8222222222222222 \n",
      " [[ 56  20   0]\n",
      " [  7 119   1]\n",
      " [  5   7  10]]\n",
      "----------------------------------\n",
      "Mean train accuracy: 1.0\n",
      "Mean test accuracy: 0.8459555555555562\n"
     ]
    }
   ],
   "source": [
    "run_more_than_once(100)"
   ]
  },
  {
   "cell_type": "code",
   "execution_count": null,
   "metadata": {},
   "outputs": [],
   "source": []
  }
 ],
 "metadata": {
  "kernelspec": {
   "display_name": "Python 3",
   "language": "python",
   "name": "python3"
  },
  "language_info": {
   "codemirror_mode": {
    "name": "ipython",
    "version": 3
   },
   "file_extension": ".py",
   "mimetype": "text/x-python",
   "name": "python",
   "nbconvert_exporter": "python",
   "pygments_lexer": "ipython3",
   "version": "3.6.8"
  }
 },
 "nbformat": 4,
 "nbformat_minor": 2
}
