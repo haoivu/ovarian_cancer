{
 "cells": [
  {
   "cell_type": "code",
   "execution_count": 1,
   "metadata": {},
   "outputs": [],
   "source": [
    "%store -r data_unlabeled\n",
    "%store -r data_labeled\n",
    "%store -r preprocessed_df\n",
    "%store -r imputed_data"
   ]
  },
  {
   "cell_type": "code",
   "execution_count": 2,
   "metadata": {},
   "outputs": [],
   "source": [
    "import pandas as pd\n",
    "import numpy as np\n",
    "from sklearn.model_selection import train_test_split\n",
    "from sklearn.metrics import accuracy_score, confusion_matrix\n",
    "\n",
    "pd.set_option('display.max_rows', 500)\n",
    "pd.set_option('display.max_columns', 500)\n",
    "pd.set_option('display.width', 1000)\n"
   ]
  },
  {
   "cell_type": "code",
   "execution_count": 3,
   "metadata": {},
   "outputs": [],
   "source": [
    "normal_input = data_unlabeled[[\"Sympt_blødning\", \"Sympt_smerter\", \"Sympt_ascites\", \"Sympt_fatigue\"]]\n",
    "the_best_input = data_unlabeled[[\"Age\", \"Sympt_blødning\", \"Sympt_smerter\", \"Sympt_vekttap\", \"Sympt_utflod\", \"Sympt_ascites\", \"Sympt_avføring\", \"Sympt_ileus\", \"Sympt_fatigue\", \"Sympt_vannlating\", \"Sympt_blodfeces\", \"Sympt_blodurin\", \"Sympt_anorexi\", \"Sympt_kakeksi\", \"Sympt_hudtumor\", \"sympt_luftveier\"]]"
   ]
  },
  {
   "cell_type": "code",
   "execution_count": 24,
   "metadata": {},
   "outputs": [],
   "source": [
    "from sklearn import svm\n",
    "\n",
    "X = imputed_data\n",
    "y = data_unlabeled[[\"kreftform\"]]\n",
    "\n",
    "X_train, X_test, y_train, y_test = train_test_split(X, y, test_size=0.33)"
   ]
  },
  {
   "cell_type": "code",
   "execution_count": 25,
   "metadata": {},
   "outputs": [
    {
     "name": "stdout",
     "output_type": "stream",
     "text": [
      "[[  0  66   0]\n",
      " [  0 145   0]\n",
      " [  0  14   0]]\n",
      "0.6444444444444445\n"
     ]
    }
   ],
   "source": [
    "clf = svm.SVC(gamma='scale')\n",
    "clf.fit(X_train, y_train.values.ravel())\n",
    "y_pred = clf.predict(X_test)\n",
    "\n",
    "print(confusion_matrix(y_test, y_pred))\n",
    "print(accuracy_score(y_test, y_pred))"
   ]
  },
  {
   "cell_type": "code",
   "execution_count": null,
   "metadata": {},
   "outputs": [],
   "source": []
  }
 ],
 "metadata": {
  "kernelspec": {
   "display_name": "Python 3",
   "language": "python",
   "name": "python3"
  },
  "language_info": {
   "codemirror_mode": {
    "name": "ipython",
    "version": 3
   },
   "file_extension": ".py",
   "mimetype": "text/x-python",
   "name": "python",
   "nbconvert_exporter": "python",
   "pygments_lexer": "ipython3",
   "version": "3.6.8"
  }
 },
 "nbformat": 4,
 "nbformat_minor": 2
}
