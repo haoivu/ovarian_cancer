{
 "cells": [
  {
   "cell_type": "code",
   "execution_count": 1,
   "metadata": {},
   "outputs": [],
   "source": [
    "%store -r normalized_df"
   ]
  },
  {
   "cell_type": "code",
   "execution_count": 2,
   "metadata": {},
   "outputs": [],
   "source": [
    "%matplotlib inline\n",
    "import pandas as pd\n",
    "import numpy as np\n",
    "from sklearn.model_selection import train_test_split\n",
    "from sklearn.metrics import accuracy_score, confusion_matrix\n",
    "from sklearn.preprocessing import LabelEncoder\n",
    "\n",
    "pd.set_option('display.max_rows', 500)\n",
    "pd.set_option('display.max_columns', 500)\n",
    "pd.set_option('display.width', 1000)"
   ]
  },
  {
   "cell_type": "code",
   "execution_count": 3,
   "metadata": {},
   "outputs": [],
   "source": [
    "X = normalized_df.drop(['kreftform'], axis=1)\n",
    "y = normalized_df[['kreftform']]"
   ]
  },
  {
   "cell_type": "code",
   "execution_count": 18,
   "metadata": {},
   "outputs": [
    {
     "name": "stdout",
     "output_type": "stream",
     "text": [
      "RMSE: 0.349218\n",
      "Accuracy: 85.78%\n"
     ]
    }
   ],
   "source": [
    "import xgboost as xgb\n",
    "from sklearn.metrics import mean_squared_error\n",
    "from sklearn import preprocessing\n",
    "from sklearn import utils\n",
    "\n",
    "data_dmatrix = xgb.DMatrix(data=X,label=y)\n",
    "X_train, X_test, y_train, y_test = train_test_split(X, y, test_size=0.33)\n",
    "\n",
    "lab_enc = preprocessing.LabelEncoder()\n",
    "encoded_y_train = lab_enc.fit_transform(y_train.values.ravel())\n",
    "encoded_y_test = lab_enc.fit_transform(y_test.values.ravel())\n",
    "\n",
    "xg_reg = xgb.XGBRegressor(objective ='reg:squarederror', colsample_bytree = 0.3, learning_rate = 0.1,\n",
    "                max_depth = 5, alpha = 10, n_estimators = 100)\n",
    "\n",
    "xg_reg.fit(X_train,encoded_y_train)\n",
    "\n",
    "y_pred = xg_reg.predict(X_test)\n",
    "\n",
    "rmse = np.sqrt(mean_squared_error(encoded_y_test, y_pred))\n",
    "print(\"RMSE: %f\" % (rmse))\n",
    "\n",
    "predictions = [round(value) for value in y_pred]\n",
    "accuracy = accuracy_score(encoded_y_test, predictions)\n",
    "print(\"Accuracy: %.2f%%\" % (accuracy * 100.0))"
   ]
  },
  {
   "cell_type": "code",
   "execution_count": 25,
   "metadata": {},
   "outputs": [],
   "source": [
    "from sklearn.datasets import load_iris\n",
    "from sklearn.model_selection import cross_val_score\n",
    "from sklearn.ensemble import RandomForestClassifier\n",
    "from sklearn import preprocessing\n",
    "from sklearn import utils\n",
    "\n",
    "#X = normalized_df[['Sympt_blødning', 'Sympt_smerter', 'Sympt_ascites', 'Sympt_fatigue']]\n",
    "#y = normalized_df[['kreftform']]\n",
    "\n",
    "X = normalized_df.drop(['kreftform'], axis=1)\n",
    "y = normalized_df[['kreftform']]\n",
    "\n",
    "def run_once():\n",
    "    \n",
    "    data_dmatrix = xgb.DMatrix(data=X,label=y)\n",
    "    X_train, X_test, y_train, y_test = train_test_split(X, y, test_size=0.33)\n",
    "\n",
    "    lab_enc = preprocessing.LabelEncoder()\n",
    "    encoded_y_train = lab_enc.fit_transform(y_train.values.ravel())\n",
    "    encoded_y_test = lab_enc.fit_transform(y_test.values.ravel())\n",
    "\n",
    "    xg_reg = xgb.XGBRegressor(objective ='reg:squarederror', colsample_bytree = 0.3, learning_rate = 0.1,\n",
    "                    max_depth = 5, alpha = 10, n_estimators = 100)\n",
    "\n",
    "    xg_reg.fit(X_train,encoded_y_train)\n",
    "\n",
    "    y_pred = xg_reg.predict(X_test)\n",
    "\n",
    "    rmse = np.sqrt(mean_squared_error(encoded_y_test, y_pred))\n",
    "    print(\"RMSE: %f\" % (rmse))\n",
    "\n",
    "    predictions = [round(value) for value in y_pred]\n",
    "    accuracy = accuracy_score(encoded_y_test, predictions)\n",
    "    print(\"Accuracy: %.2f%%\" % (accuracy * 100.0))\n",
    "    \n",
    "def run_more_than_once(run_number):\n",
    "    tot_acc = 0\n",
    "    max_matrix = 0\n",
    "    max_accuracy = 0\n",
    "\n",
    "    min_matrix = 0\n",
    "    min_accuracy = 1\n",
    "    for i in range(run_number):\n",
    "        \n",
    "        data_dmatrix = xgb.DMatrix(data=X,label=y)\n",
    "        X_train, X_test, y_train, y_test = train_test_split(X, y, test_size=0.33)\n",
    "\n",
    "        lab_enc = preprocessing.LabelEncoder()\n",
    "        encoded_y_train = lab_enc.fit_transform(y_train.values.ravel())\n",
    "        encoded_y_test = lab_enc.fit_transform(y_test.values.ravel())\n",
    "\n",
    "        xg_reg = xgb.XGBRegressor(objective ='reg:squarederror', colsample_bytree = 0.3, learning_rate = 0.1,\n",
    "                        max_depth = 5, alpha = 10, n_estimators = 100)\n",
    "\n",
    "        xg_reg.fit(X_train,encoded_y_train)\n",
    "\n",
    "        y_pred = xg_reg.predict(X_test)\n",
    "        encoded_y_pred = lab_enc.fit_transform(y_pred)\n",
    "\n",
    "        #rmse = np.sqrt(mean_squared_error(encoded_y_test, y_pred))\n",
    "        #print(\"RMSE: %f\" % (rmse))\n",
    "\n",
    "        predictions = [round(value) for value in encoded_y_pred]\n",
    "        accuracy = accuracy_score(encoded_y_test, predictions)\n",
    "        #print(\"Accuracy: %.2f%%\" % (accuracy * 100.0))\n",
    "\n",
    "        accuracy = accuracy_score(encoded_y_test, predictions)\n",
    "\n",
    "        if accuracy > max_accuracy:\n",
    "            max_accuracy = accuracy\n",
    "            max_matrix = confusion_matrix(encoded_y_test, encoded_y_pred)\n",
    "\n",
    "        if accuracy < min_accuracy:\n",
    "            min_accuracy = accuracy\n",
    "            min_matrix = confusion_matrix(encoded_y_test, encoded_y_pred)\n",
    "\n",
    "        tot_acc += accuracy\n",
    "        tot = i+1\n",
    "        mean = tot_acc/tot\n",
    "\n",
    "    print('Maximum')\n",
    "    print(max_accuracy, '\\n', max_matrix)\n",
    "    print('----------------------------------')\n",
    "    print('Minimum')\n",
    "    print(min_accuracy, '\\n', min_matrix)\n",
    "    print('----------------------------------')\n",
    "    print('mean accuracy:', mean)"
   ]
  },
  {
   "cell_type": "code",
   "execution_count": 26,
   "metadata": {},
   "outputs": [
    {
     "name": "stdout",
     "output_type": "stream",
     "text": [
      "Maximum\n",
      "0.0044444444444444444 \n",
      " [[1 1 1 ... 0 0 0]\n",
      " [0 0 0 ... 0 0 0]\n",
      " [0 0 0 ... 1 1 1]\n",
      " ...\n",
      " [0 0 0 ... 0 0 0]\n",
      " [0 0 0 ... 0 0 0]\n",
      " [0 0 0 ... 0 0 0]]\n",
      "----------------------------------\n",
      "Minimum\n",
      "0.0044444444444444444 \n",
      " [[1 1 1 ... 0 0 0]\n",
      " [0 0 0 ... 0 0 0]\n",
      " [0 0 0 ... 1 1 1]\n",
      " ...\n",
      " [0 0 0 ... 0 0 0]\n",
      " [0 0 0 ... 0 0 0]\n",
      " [0 0 0 ... 0 0 0]]\n",
      "----------------------------------\n",
      "mean accuracy: 0.0044444444444444444\n"
     ]
    }
   ],
   "source": [
    "run_more_than_once(2)"
   ]
  },
  {
   "cell_type": "code",
   "execution_count": null,
   "metadata": {},
   "outputs": [],
   "source": []
  }
 ],
 "metadata": {
  "kernelspec": {
   "display_name": "Python 3",
   "language": "python",
   "name": "python3"
  },
  "language_info": {
   "codemirror_mode": {
    "name": "ipython",
    "version": 3
   },
   "file_extension": ".py",
   "mimetype": "text/x-python",
   "name": "python",
   "nbconvert_exporter": "python",
   "pygments_lexer": "ipython3",
   "version": "3.6.8"
  }
 },
 "nbformat": 4,
 "nbformat_minor": 2
}
