{
 "cells": [
  {
   "cell_type": "code",
   "execution_count": 38,
   "metadata": {},
   "outputs": [],
   "source": [
    "%store -r normalized_df"
   ]
  },
  {
   "cell_type": "code",
   "execution_count": 68,
   "metadata": {},
   "outputs": [],
   "source": [
    "%matplotlib inline\n",
    "import pandas as pd\n",
    "import numpy as np\n",
    "from sklearn.model_selection import train_test_split\n",
    "from sklearn.metrics import accuracy_score, confusion_matrix\n",
    "from sklearn.preprocessing import LabelEncoder\n",
    "import xgboost as xgb\n",
    "\n",
    "pd.set_option('display.max_rows', 500)\n",
    "pd.set_option('display.max_columns', 500)\n",
    "pd.set_option('display.width', 1000)"
   ]
  },
  {
   "cell_type": "code",
   "execution_count": 69,
   "metadata": {},
   "outputs": [],
   "source": [
    "from sklearn.datasets import load_iris\n",
    "from sklearn.model_selection import cross_val_score\n",
    "from sklearn import preprocessing\n",
    "from sklearn import utils\n",
    "\n",
    "#X = normalized_df[['Sympt_blødning', 'Sympt_smerter', 'Sympt_ascites', 'Sympt_fatigue']]\n",
    "#X = normalized_df[['histologi','Substadium','Primærbehandling','FIGO_stadium','Født','Age_at_diagnosis','Age','Behandling','age_rec','Histo_nummer']]\n",
    "X = normalized_df.drop(['kreftform'], axis=1)\n",
    "#X = normalized_df[['Sympt_blødning', 'Sympt_smerter', 'Sympt_ascites', 'Sympt_fatigue', 'Lengde_sympt_dager', 'Lengde_sympt_uker', 'Lengde_sympt_mnd']]\n",
    "y = normalized_df[['kreftform']]\n",
    "\n",
    "def run_once():\n",
    "    \n",
    "    data_dmatrix = xgb.DMatrix(data=X,label=y)\n",
    "    X_train, X_test, y_train, y_test = train_test_split(X, y, test_size=0.33)\n",
    "\n",
    "    lab_enc = preprocessing.LabelEncoder()\n",
    "    encoded_y_train = lab_enc.fit_transform(y_train.values.ravel())\n",
    "    encoded_y_test = lab_enc.fit_transform(y_test.values.ravel())\n",
    "\n",
    "    xg_reg = xgb.XGBClassifier(objective ='binary:logistic', colsample_bytree = 0.3, learning_rate = 0.1,\n",
    "                    max_depth = 5, alpha = 10, n_estimators = 100)\n",
    "\n",
    "    xg_reg.fit(X_train,encoded_y_train)\n",
    "\n",
    "    y_pred = xg_reg.predict(X_test)\n",
    "    \n",
    "    feature_list = []\n",
    "    for feature in zip(X.columns, xg_reg.feature_importances_):\n",
    "        feature_list.append(feature)\n",
    "\n",
    "#    rmse = np.sqrt(mean_squared_error(encoded_y_test, y_pred))\n",
    "#    print(\"RMSE: %f\" % (rmse))\n",
    "\n",
    "    predictions = [round(value) for value in y_pred]\n",
    "    accuracy = accuracy_score(encoded_y_test, predictions)\n",
    "    \n",
    "    print(confusion_matrix(encoded_y_test, predictions))\n",
    "    print(accuracy_score(encoded_y_test, predictions))\n",
    "    \n",
    "    return feature_list\n",
    "\n",
    "def run_more_than_once(run_number):\n",
    "    tot_acc = 0\n",
    "    max_matrix = 0\n",
    "    max_accuracy = 0\n",
    "\n",
    "    min_matrix = 0\n",
    "    min_accuracy = 1\n",
    "    for i in range(run_number):\n",
    "        \n",
    "        data_dmatrix = xgb.DMatrix(data=X,label=y)\n",
    "        X_train, X_test, y_train, y_test = train_test_split(X, y, test_size=0.33)\n",
    "\n",
    "        lab_enc = preprocessing.LabelEncoder()\n",
    "        encoded_y_train = lab_enc.fit_transform(y_train.values.ravel())\n",
    "        encoded_y_test = lab_enc.fit_transform(y_test.values.ravel())\n",
    "\n",
    "#        xg_reg = xgb.XGBClassifier(objective ='binary:logistic', colsample_bytree = 0.3, learning_rate = 0.1,\n",
    "#                        max_depth = 5, alpha = 10, n_estimators = 100)\n",
    "    \n",
    "        xg_reg = xgb.XGBClassifier(\n",
    "            learning_rate =0.1,\n",
    "            n_estimators=100,\n",
    "            max_depth=4,\n",
    "            min_child_weight=6,\n",
    "            gamma=0,\n",
    "            subsample=0.8,\n",
    "            colsample_bytree=0.8,\n",
    "            reg_alpha=0.005,\n",
    "            objective= 'binary:logistic',\n",
    "            nthread=4,\n",
    "            scale_pos_weight=1,\n",
    "            seed=27)\n",
    "\n",
    "        xg_reg.fit(X_train,encoded_y_train)\n",
    "\n",
    "        y_pred = xg_reg.predict(X_test)\n",
    "        encoded_y_pred = lab_enc.fit_transform(y_pred)\n",
    "\n",
    "        #rmse = np.sqrt(mean_squared_error(encoded_y_test, y_pred))\n",
    "        #print(\"RMSE: %f\" % (rmse))\n",
    "\n",
    "        predictions = [round(value) for value in encoded_y_pred]\n",
    "        accuracy = accuracy_score(encoded_y_test, predictions)\n",
    "        #print(\"Accuracy: %.2f%%\" % (accuracy * 100.0))\n",
    "\n",
    "        accuracy = accuracy_score(encoded_y_test, predictions)\n",
    "\n",
    "        if accuracy > max_accuracy:\n",
    "            max_accuracy = accuracy\n",
    "            max_matrix = confusion_matrix(encoded_y_test, encoded_y_pred)\n",
    "\n",
    "        if accuracy < min_accuracy:\n",
    "            min_accuracy = accuracy\n",
    "            min_matrix = confusion_matrix(encoded_y_test, encoded_y_pred)\n",
    "\n",
    "        tot_acc += accuracy\n",
    "        tot = i+1\n",
    "        mean = tot_acc/tot\n",
    "\n",
    "    print('Maximum')\n",
    "    print(max_accuracy, '\\n', max_matrix)\n",
    "    print('----------------------------------')\n",
    "    print('Minimum')\n",
    "    print(min_accuracy, '\\n', min_matrix)\n",
    "    print('----------------------------------')\n",
    "    print('mean accuracy:', mean)"
   ]
  },
  {
   "cell_type": "code",
   "execution_count": 95,
   "metadata": {},
   "outputs": [
    {
     "name": "stdout",
     "output_type": "stream",
     "text": [
      "Maximum\n",
      "0.6577777777777778 \n",
      " [[ 26  40   0]\n",
      " [ 25 115   4]\n",
      " [  1   7   7]]\n",
      "----------------------------------\n",
      "Minimum\n",
      "0.5333333333333333 \n",
      " [[21 49  1]\n",
      " [39 91  8]\n",
      " [ 2  6  8]]\n",
      "----------------------------------\n",
      "mean accuracy: 0.5785777777777777\n"
     ]
    }
   ],
   "source": [
    "run_more_than_once(100)"
   ]
  },
  {
   "cell_type": "code",
   "execution_count": 94,
   "metadata": {},
   "outputs": [
    {
     "name": "stdout",
     "output_type": "stream",
     "text": [
      "[[ 22  44   0]\n",
      " [ 36 104   3]\n",
      " [  2  11   3]]\n",
      "0.5733333333333334\n"
     ]
    }
   ],
   "source": [
    "features = run_once()"
   ]
  },
  {
   "cell_type": "code",
   "execution_count": 71,
   "metadata": {},
   "outputs": [],
   "source": [
    "features_importance = pd.DataFrame(features)"
   ]
  },
  {
   "cell_type": "code",
   "execution_count": 72,
   "metadata": {},
   "outputs": [],
   "source": [
    "features_names = features_importance[0]"
   ]
  },
  {
   "cell_type": "code",
   "execution_count": 96,
   "metadata": {},
   "outputs": [],
   "source": [
    "features_names = features_names[:4]"
   ]
  },
  {
   "cell_type": "code",
   "execution_count": 97,
   "metadata": {},
   "outputs": [
    {
     "data": {
      "text/plain": [
       "0            Født\n",
       "1    Oppdaget_når\n",
       "2             Age\n",
       "3             Død\n",
       "Name: 0, dtype: object"
      ]
     },
     "execution_count": 97,
     "metadata": {},
     "output_type": "execute_result"
    }
   ],
   "source": [
    "features_names"
   ]
  },
  {
   "cell_type": "code",
   "execution_count": 74,
   "metadata": {},
   "outputs": [],
   "source": [
    "feature_names = list(features_names)"
   ]
  },
  {
   "cell_type": "code",
   "execution_count": 75,
   "metadata": {},
   "outputs": [],
   "source": [
    "X = normalized_df[feature_names]"
   ]
  },
  {
   "cell_type": "code",
   "execution_count": null,
   "metadata": {},
   "outputs": [],
   "source": []
  }
 ],
 "metadata": {
  "kernelspec": {
   "display_name": "Python 3",
   "language": "python",
   "name": "python3"
  },
  "language_info": {
   "codemirror_mode": {
    "name": "ipython",
    "version": 3
   },
   "file_extension": ".py",
   "mimetype": "text/x-python",
   "name": "python",
   "nbconvert_exporter": "python",
   "pygments_lexer": "ipython3",
   "version": "3.6.8"
  }
 },
 "nbformat": 4,
 "nbformat_minor": 2
}
