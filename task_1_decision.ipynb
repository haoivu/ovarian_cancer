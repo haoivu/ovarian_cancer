{
 "cells": [
  {
   "cell_type": "code",
   "execution_count": 38,
   "metadata": {},
   "outputs": [],
   "source": [
    "%store -r normalized_df"
   ]
  },
  {
   "cell_type": "code",
   "execution_count": 39,
   "metadata": {},
   "outputs": [],
   "source": [
    "import pandas as pd\n",
    "import numpy as np\n",
    "from sklearn.model_selection import train_test_split\n",
    "from sklearn.metrics import accuracy_score, confusion_matrix\n",
    "from sklearn.preprocessing import LabelEncoder\n",
    "\n",
    "pd.set_option('display.max_rows', 500)\n",
    "pd.set_option('display.max_columns', 500)\n",
    "pd.set_option('display.width', 1000)"
   ]
  },
  {
   "cell_type": "code",
   "execution_count": 47,
   "metadata": {},
   "outputs": [],
   "source": [
    "from sklearn.datasets import load_iris\n",
    "from sklearn.model_selection import cross_val_score\n",
    "from sklearn.ensemble import RandomForestClassifier\n",
    "from sklearn import preprocessing\n",
    "from sklearn import utils\n",
    "\n",
    "#X = normalized_df[['Sympt_blødning', 'Sympt_smerter', 'Sympt_ascites', 'Sympt_fatigue']]\n",
    "#X = normalized_df.drop(['kreftform'], axis=1)\n",
    "X = normalized_df[['Sympt_blødning', 'Sympt_smerter', 'Sympt_ascites', 'Sympt_fatigue', 'Lengde_sympt_dager', 'Lengde_sympt_uker', 'Lengde_sympt_mnd']]\n",
    "y = normalized_df[['kreftform']]\n",
    "\n",
    "def run_once(graph):\n",
    "    \n",
    "    X_train, X_test, y_train, y_test = train_test_split(X, y, test_size=0.33)\n",
    "\n",
    "    lab_enc = preprocessing.LabelEncoder()\n",
    "    encoded_y_train = lab_enc.fit_transform(y_train.values.ravel())\n",
    "    encoded_y_test = lab_enc.fit_transform(y_test.values.ravel())\n",
    "    \n",
    "    clf = RandomForestClassifier(n_estimators=100)\n",
    "\n",
    "    clf.fit(X_train, encoded_y_train)\n",
    "    y_pred = clf.predict(X_test)\n",
    "\n",
    "    accuracy = accuracy_score(encoded_y_test, y_pred)\n",
    "    print(confusion_matrix(encoded_y_test, y_pred))\n",
    "    print(accuracy_score(encoded_y_test, y_pred))\n",
    "    \n",
    "    if(graph == True):\n",
    "        estimator = clf.estimators_[5]\n",
    "\n",
    "        from sklearn.tree import export_graphviz\n",
    "        # Export as dot file\n",
    "        export_graphviz(estimator, out_file='tree.dot',\n",
    "                        feature_names = X.columns.values,\n",
    "                        class_names = ['corpus', 'ovarie' , 'cervix'],\n",
    "                        rounded = True, proportion = False, \n",
    "                        precision = 2, filled = True)\n",
    "\n",
    "        # Convert to png using system command (requires Graphviz)\n",
    "        from subprocess import call\n",
    "        call(['dot', '-Tpng', 'tree.dot', '-o', 'tree.png', '-Gdpi=600'])\n",
    "\n",
    "        # Display in jupyter notebook\n",
    "        from IPython.display import Image\n",
    "        Image(filename = 'tree.png')\n",
    "    \n",
    "def run_more_than_once(run_number):\n",
    "    tot_acc = 0\n",
    "    max_matrix = 0\n",
    "    max_accuracy = 0\n",
    "\n",
    "    min_matrix = 0\n",
    "    min_accuracy = 1\n",
    "    for i in range(run_number):\n",
    "        \n",
    "        X_train, X_test, y_train, y_test = train_test_split(X, y, test_size=0.33)\n",
    "\n",
    "        lab_enc = preprocessing.LabelEncoder()\n",
    "        encoded_y_train = lab_enc.fit_transform(y_train.values.ravel())\n",
    "        encoded_y_test = lab_enc.fit_transform(y_test.values.ravel())\n",
    "        \n",
    "        clf = RandomForestClassifier(n_estimators=100)\n",
    "\n",
    "        clf.fit(X_train, encoded_y_train)\n",
    "        y_pred = clf.predict(X_test)\n",
    "\n",
    "        accuracy = accuracy_score(encoded_y_test, y_pred)\n",
    "\n",
    "        if accuracy > max_accuracy:\n",
    "            max_accuracy = accuracy\n",
    "            max_matrix = confusion_matrix(encoded_y_test, y_pred)\n",
    "\n",
    "        if accuracy < min_accuracy:\n",
    "            min_accuracy = accuracy\n",
    "            min_matrix = confusion_matrix(encoded_y_test, y_pred)\n",
    "\n",
    "        tot_acc += accuracy\n",
    "        tot = i+1\n",
    "        mean = tot_acc/tot\n",
    "\n",
    "    print('Maximum')\n",
    "    print(max_accuracy, '\\n', max_matrix)\n",
    "    print('----------------------------------')\n",
    "    print('Minimum')\n",
    "    print(min_accuracy, '\\n', min_matrix)\n",
    "    print('----------------------------------')\n",
    "    print('mean accuracy:', mean)"
   ]
  },
  {
   "cell_type": "code",
   "execution_count": 48,
   "metadata": {},
   "outputs": [
    {
     "name": "stdout",
     "output_type": "stream",
     "text": [
      "Maximum\n",
      "0.6888888888888889 \n",
      " [[ 22  46   0]\n",
      " [  6 132   3]\n",
      " [  4  11   1]]\n",
      "----------------------------------\n",
      "Minimum\n",
      "0.5733333333333334 \n",
      " [[ 20  56   4]\n",
      " [  9 109   3]\n",
      " [  5  19   0]]\n",
      "----------------------------------\n",
      "mean accuracy: 0.6315555555555554\n"
     ]
    }
   ],
   "source": [
    "run_more_than_once(100)"
   ]
  },
  {
   "cell_type": "code",
   "execution_count": 35,
   "metadata": {},
   "outputs": [
    {
     "name": "stdout",
     "output_type": "stream",
     "text": [
      "[[ 12  41   0]\n",
      " [  0 101   0]\n",
      " [  3  13   0]]\n",
      "0.6647058823529411\n"
     ]
    }
   ],
   "source": [
    "run_once(False)"
   ]
  },
  {
   "cell_type": "code",
   "execution_count": null,
   "metadata": {},
   "outputs": [],
   "source": []
  }
 ],
 "metadata": {
  "kernelspec": {
   "display_name": "Python 3",
   "language": "python",
   "name": "python3"
  },
  "language_info": {
   "codemirror_mode": {
    "name": "ipython",
    "version": 3
   },
   "file_extension": ".py",
   "mimetype": "text/x-python",
   "name": "python",
   "nbconvert_exporter": "python",
   "pygments_lexer": "ipython3",
   "version": "3.6.8"
  }
 },
 "nbformat": 4,
 "nbformat_minor": 2
}
